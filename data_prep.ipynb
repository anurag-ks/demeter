{
 "cells": [
  {
   "cell_type": "code",
   "execution_count": 2,
   "metadata": {},
   "outputs": [],
   "source": [
    "import pandas as pd\n",
    "\n",
    "df = pd.read_excel(\"advisory_data_file_excel.xlsx\", sheet_name=\"IC Master\")"
   ]
  },
  {
   "cell_type": "code",
   "execution_count": 3,
   "metadata": {},
   "outputs": [],
   "source": [
    "df.columns = df.columns.str.strip()\n",
    "df = df.applymap(lambda x: x.strip() if isinstance(x, str) else x)"
   ]
  },
  {
   "cell_type": "code",
   "execution_count": 4,
   "metadata": {},
   "outputs": [
    {
     "name": "stdout",
     "output_type": "stream",
     "text": [
      "['Redgram', 'Clusterbean', 'Paddy', 'Soyabean', 'Sugarcane Seasonal', 'Maize', 'Tomato', 'Groundnut', 'Cotton', 'Bajra', 'Banana', 'Chilli', 'Sugarcane Adsali', 'Cauliflower', 'Lentil', 'Onion', 'Coriander', 'Brinjal', 'Garlic', 'Cabbage', 'Mustard', 'Okra', 'Chickpea', 'Potato', 'Pea', 'Wheat']\n"
     ]
    }
   ],
   "source": [
    "crop_names = list(df['crop'].unique())\n",
    "print(crop_names)"
   ]
  },
  {
   "cell_type": "code",
   "execution_count": 5,
   "metadata": {},
   "outputs": [],
   "source": [
    "tasks_by_crop = (\n",
    "    df.groupby('crop')\n",
    "    .apply(lambda x: x.loc[x['state'] == x['state'].iloc[0], 'title'])\n",
    "    .reset_index(name='title')\n",
    ")"
   ]
  },
  {
   "cell_type": "code",
   "execution_count": 6,
   "metadata": {},
   "outputs": [],
   "source": [
    "tasks_by_crop[\"description\"] = \"\""
   ]
  },
  {
   "cell_type": "code",
   "execution_count": 7,
   "metadata": {},
   "outputs": [
    {
     "data": {
      "text/html": [
       "<div>\n",
       "<style scoped>\n",
       "    .dataframe tbody tr th:only-of-type {\n",
       "        vertical-align: middle;\n",
       "    }\n",
       "\n",
       "    .dataframe tbody tr th {\n",
       "        vertical-align: top;\n",
       "    }\n",
       "\n",
       "    .dataframe thead th {\n",
       "        text-align: right;\n",
       "    }\n",
       "</style>\n",
       "<table border=\"1\" class=\"dataframe\">\n",
       "  <thead>\n",
       "    <tr style=\"text-align: right;\">\n",
       "      <th></th>\n",
       "      <th>crop</th>\n",
       "      <th>level_1</th>\n",
       "      <th>title</th>\n",
       "      <th>description</th>\n",
       "    </tr>\n",
       "  </thead>\n",
       "  <tbody>\n",
       "    <tr>\n",
       "      <th>0</th>\n",
       "      <td>Bajra</td>\n",
       "      <td>14</td>\n",
       "      <td>Soil Sample Collection</td>\n",
       "      <td></td>\n",
       "    </tr>\n",
       "    <tr>\n",
       "      <th>1</th>\n",
       "      <td>Bajra</td>\n",
       "      <td>22</td>\n",
       "      <td>Soil Test Report</td>\n",
       "      <td></td>\n",
       "    </tr>\n",
       "    <tr>\n",
       "      <th>2</th>\n",
       "      <td>Bajra</td>\n",
       "      <td>37</td>\n",
       "      <td>Variety Selection</td>\n",
       "      <td></td>\n",
       "    </tr>\n",
       "    <tr>\n",
       "      <th>3</th>\n",
       "      <td>Bajra</td>\n",
       "      <td>58</td>\n",
       "      <td>Primary Ploughing</td>\n",
       "      <td></td>\n",
       "    </tr>\n",
       "    <tr>\n",
       "      <th>4</th>\n",
       "      <td>Bajra</td>\n",
       "      <td>77</td>\n",
       "      <td>Organic Manure Application</td>\n",
       "      <td></td>\n",
       "    </tr>\n",
       "    <tr>\n",
       "      <th>...</th>\n",
       "      <td>...</td>\n",
       "      <td>...</td>\n",
       "      <td>...</td>\n",
       "      <td>...</td>\n",
       "    </tr>\n",
       "    <tr>\n",
       "      <th>5656</th>\n",
       "      <td>Wheat</td>\n",
       "      <td>18836</td>\n",
       "      <td>Irrigation 4</td>\n",
       "      <td></td>\n",
       "    </tr>\n",
       "    <tr>\n",
       "      <th>5657</th>\n",
       "      <td>Wheat</td>\n",
       "      <td>18837</td>\n",
       "      <td>Spray 4 Disease Nutrition</td>\n",
       "      <td></td>\n",
       "    </tr>\n",
       "    <tr>\n",
       "      <th>5658</th>\n",
       "      <td>Wheat</td>\n",
       "      <td>18838</td>\n",
       "      <td>Irrigation 5</td>\n",
       "      <td></td>\n",
       "    </tr>\n",
       "    <tr>\n",
       "      <th>5659</th>\n",
       "      <td>Wheat</td>\n",
       "      <td>18839</td>\n",
       "      <td>Irrigation 6</td>\n",
       "      <td></td>\n",
       "    </tr>\n",
       "    <tr>\n",
       "      <th>5660</th>\n",
       "      <td>Wheat</td>\n",
       "      <td>18840</td>\n",
       "      <td>Harvesting</td>\n",
       "      <td></td>\n",
       "    </tr>\n",
       "  </tbody>\n",
       "</table>\n",
       "<p>5661 rows × 4 columns</p>\n",
       "</div>"
      ],
      "text/plain": [
       "       crop  level_1                       title description\n",
       "0     Bajra       14      Soil Sample Collection            \n",
       "1     Bajra       22            Soil Test Report            \n",
       "2     Bajra       37           Variety Selection            \n",
       "3     Bajra       58           Primary Ploughing            \n",
       "4     Bajra       77  Organic Manure Application            \n",
       "...     ...      ...                         ...         ...\n",
       "5656  Wheat    18836                Irrigation 4            \n",
       "5657  Wheat    18837   Spray 4 Disease Nutrition            \n",
       "5658  Wheat    18838                Irrigation 5            \n",
       "5659  Wheat    18839                Irrigation 6            \n",
       "5660  Wheat    18840                  Harvesting            \n",
       "\n",
       "[5661 rows x 4 columns]"
      ]
     },
     "execution_count": 7,
     "metadata": {},
     "output_type": "execute_result"
    }
   ],
   "source": [
    "tasks_by_crop"
   ]
  },
  {
   "cell_type": "code",
   "execution_count": 8,
   "metadata": {},
   "outputs": [],
   "source": [
    "df_2 = pd.read_excel(\"advisory_data_file_excel.xlsx\", sheet_name=\"Title Description\")"
   ]
  },
  {
   "cell_type": "code",
   "execution_count": 9,
   "metadata": {},
   "outputs": [],
   "source": [
    "df_2.columns = df_2.columns.str.strip()"
   ]
  },
  {
   "cell_type": "code",
   "execution_count": 10,
   "metadata": {},
   "outputs": [],
   "source": [
    "df_2 = df_2.applymap(lambda x: x.strip() if isinstance(x, str) else x)\n"
   ]
  },
  {
   "cell_type": "code",
   "execution_count": 11,
   "metadata": {},
   "outputs": [
    {
     "name": "stdout",
     "output_type": "stream",
     "text": [
      "       crop  level_1                       title  \\\n",
      "0     Bajra       14      Soil Sample Collection   \n",
      "1     Bajra       22            Soil Test Report   \n",
      "2     Bajra       37           Variety Selection   \n",
      "3     Bajra       58           Primary Ploughing   \n",
      "4     Bajra       77  Organic Manure Application   \n",
      "...     ...      ...                         ...   \n",
      "5656  Wheat    18836                Irrigation 4   \n",
      "5657  Wheat    18837   Spray 4 Disease Nutrition   \n",
      "5658  Wheat    18838                Irrigation 5   \n",
      "5659  Wheat    18839                Irrigation 6   \n",
      "5660  Wheat    18840                  Harvesting   \n",
      "\n",
      "                                            description  \n",
      "0     Collect the soil samples after harvest of prev...  \n",
      "1     Generate the soil test report and make it avai...  \n",
      "2     Select any promising high yielding varieties a...  \n",
      "3     Plough the field with Power Harrow or Disk Har...  \n",
      "4     Apply 5 tones well-decomposed organic manure  ...  \n",
      "...                                                 ...  \n",
      "5656      Irrigate the crop at  heading/flowering stage  \n",
      "5657  For Rust - Azoxystrobin 11%+Tebuconazole 18.3%...  \n",
      "5658         Irrigate the crop at  milk formation stage  \n",
      "5659    Irrigate the crop at  grain filling/dough stage  \n",
      "5660  Harvest the crop at full maturity. Harvesting ...  \n",
      "\n",
      "[5661 rows x 4 columns]\n"
     ]
    }
   ],
   "source": [
    "for i in range(len(tasks_by_crop)):\n",
    "    row = tasks_by_crop.iloc[i]\n",
    "    crop = row.crop\n",
    "    task_title = row.title\n",
    "    try:\n",
    "        description = df_2[(df_2[\"crop\"]==crop) & (df_2[\"title\"]==task_title)].iloc[0][\"description\"]\n",
    "    except IndexError:\n",
    "        print(\"Index Error for\")\n",
    "        print(crop, task_title)\n",
    "        description = \"\"\n",
    "    tasks_by_crop.at[i, \"description\"] = description\n",
    "print(tasks_by_crop)"
   ]
  },
  {
   "cell_type": "code",
   "execution_count": 12,
   "metadata": {},
   "outputs": [],
   "source": [
    "tasks_by_crop.drop(labels=[\"level_1\"], axis=1, inplace=True)"
   ]
  },
  {
   "cell_type": "code",
   "execution_count": 14,
   "metadata": {},
   "outputs": [],
   "source": [
    "tasks_by_crop.to_csv(\"source.csv\", index=False)"
   ]
  },
  {
   "cell_type": "code",
   "execution_count": 29,
   "metadata": {},
   "outputs": [
    {
     "data": {
      "text/plain": [
       "5661"
      ]
     },
     "execution_count": 29,
     "metadata": {},
     "output_type": "execute_result"
    }
   ],
   "source": [
    "tmp_df:pd.DataFrame = tasks_by_crop\n",
    "len(tmp_df)"
   ]
  },
  {
   "cell_type": "code",
   "execution_count": 30,
   "metadata": {},
   "outputs": [
    {
     "data": {
      "text/plain": [
       "863"
      ]
     },
     "execution_count": 30,
     "metadata": {},
     "output_type": "execute_result"
    }
   ],
   "source": [
    "tmp_df.drop_duplicates(subset=[\"crop\", \"title\"], inplace=True)\n",
    "len(tmp_df)"
   ]
  },
  {
   "cell_type": "code",
   "execution_count": 32,
   "metadata": {},
   "outputs": [],
   "source": [
    "tmp_df.to_csv(\"source_2.csv\", index=False)"
   ]
  },
  {
   "cell_type": "code",
   "execution_count": 40,
   "metadata": {},
   "outputs": [],
   "source": [
    "data = tmp_df.groupby('crop').apply(lambda x: x[['title', 'description']].to_dict(orient='records')).to_dict()"
   ]
  },
  {
   "cell_type": "code",
   "execution_count": 58,
   "metadata": {},
   "outputs": [],
   "source": [
    "final_output = \"\"\n",
    "for key, value in data.items():\n",
    "    output = f\"How to grow {key}?\\n\\n\"\n",
    "    for i, task_item in enumerate(value):\n",
    "        title = task_item.get(\"title\")\n",
    "        desc = task_item.get(\"description\")\n",
    "        output += f\"Step {i+1} {title}\\n{desc}\\n\\n\"\n",
    "    final_output += output\n",
    "\n",
    "with open(\"source.txt\", \"w\") as out:\n",
    "    out.writelines(final_output)"
   ]
  }
 ],
 "metadata": {
  "kernelspec": {
   "display_name": "Python 3",
   "language": "python",
   "name": "python3"
  },
  "language_info": {
   "codemirror_mode": {
    "name": "ipython",
    "version": 3
   },
   "file_extension": ".py",
   "mimetype": "text/x-python",
   "name": "python",
   "nbconvert_exporter": "python",
   "pygments_lexer": "ipython3",
   "version": "3.10.12"
  }
 },
 "nbformat": 4,
 "nbformat_minor": 2
}
